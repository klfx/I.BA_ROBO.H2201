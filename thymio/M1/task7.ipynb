{
 "cells": [
  {
   "cell_type": "code",
   "execution_count": null,
   "metadata": {},
   "outputs": [],
   "source": [
    "import numpy as np\n",
    "import pandas as pd\n",
    "import seaborn as sns\n",
    "import matplotlib.pyplot as plt"
   ]
  },
  {
   "cell_type": "markdown",
   "metadata": {},
   "source": [
    "## Task 7: \n",
    "* Config Function for Task 2 with variable values"
   ]
  },
  {
   "cell_type": "code",
   "execution_count": null,
   "metadata": {},
   "outputs": [],
   "source": [
    "def circle_config(radius):\n",
    "    #input radius: in mm\n",
    "    #input time: in ms\n",
    "    u = 2*radius*np.pi\n",
    "    m_left = (u*-20/91)+180/13\n",
    "    loop_time = u*0.00813+2.587\n",
    "    return(m_left,loop_time)\n",
    "\n",
    "#Config für Kreis mit 8.24cm Radius\n",
    "circle_config(82.4)"
   ]
  },
  {
   "cell_type": "markdown",
   "metadata": {},
   "source": [
    "### Measurements"
   ]
  },
  {
   "cell_type": "code",
   "execution_count": null,
   "metadata": {},
   "outputs": [],
   "source": [
    "data_dict = {'m_left_speed':[100,150,200],'radius':[82.4,111,155],'time':[6.8,8.2,10.5]}\n",
    "df_measurements = pd.DataFrame(data_dict)\n",
    "print(df_measurements)\n",
    "\n",
    "f, ax = plt.subplots(figsize=(6,6))\n",
    "plot1 = sns.lineplot(x='m_left_speed',y='radius',data=df_measurements,marker='o')\n",
    "plot1.set(xlabel=\"m_left_speed\",ylabel=\"radius[mm]\")"
   ]
  },
  {
   "cell_type": "code",
   "execution_count": null,
   "metadata": {},
   "outputs": [],
   "source": [
    "plot2 = sns.lineplot(x='m_left_speed',y='time',data=df_measurements,marker='o')\n",
    "plot2.set(xlabel=\"m_left_speed\",ylabel=\"time[s]\")"
   ]
  }
 ],
 "metadata": {
  "kernelspec": {
   "display_name": "Python 3.10.6 ('hslu')",
   "language": "python",
   "name": "python3"
  },
  "language_info": {
   "codemirror_mode": {
    "name": "ipython",
    "version": 3
   },
   "file_extension": ".py",
   "mimetype": "text/x-python",
   "name": "python",
   "nbconvert_exporter": "python",
   "pygments_lexer": "ipython3",
   "version": "3.10.6"
  },
  "orig_nbformat": 4,
  "vscode": {
   "interpreter": {
    "hash": "e4966d2a7585fd1cffe75d2f63d56b8e758449507e2d4de7f8c723faeaf963fb"
   }
  }
 },
 "nbformat": 4,
 "nbformat_minor": 2
}
