{
 "cells": [
  {
   "cell_type": "markdown",
   "metadata": {},
   "source": []
  },
  {
   "cell_type": "code",
   "execution_count": 20,
   "metadata": {
    "pycharm": {
     "is_executing": true
    }
   },
   "outputs": [],
   "source": [
    "import pandas as pd\n",
    "import sys"
   ]
  },
  {
   "cell_type": "code",
   "execution_count": 3,
   "metadata": {
    "pycharm": {
     "is_executing": true
    }
   },
   "outputs": [],
   "source": [
    "d = {'categories': [{'name': 'others_', 'score': 0.00390625}], 'color': {'dominantColorForeground': 'White', 'dominantColorBackground': 'White', 'dominantColors': ['White', 'Black'], 'accentColor': '7E4926', 'isBwImg': False, 'isBWImg': False}, 'description': {'tags': ['text', 'person', 'man', 'indoor', 'wall', 'ceiling', 'computer'], 'captions': [{'text': 'a man sitting at a table with a laptop', 'confidence': 0.4669271409511566}]}, 'requestId': 'bd8807e1-c27a-440f-9b8e-bcc682d5d763', 'metadata': {'height': 480, 'width': 640, 'format': 'Jpeg'}}\n",
    "d1 = {'categories': [{'name': 'people_', 'score': 0.40625}], 'color': {'dominantColorForeground': 'White', 'dominantColorBackground': 'White', 'dominantColors': ['White', 'Black'], 'accentColor': '784623', 'isBwImg': False, 'isBWImg': False}, 'description': {'tags': ['person', 'wall', 'indoor', 'man', 'ceiling'], 'captions': [{'text': 'a man sitting at a table with computers', 'confidence': 0.39548176527023315}]}, 'requestId': '06df764b-b652-4c00-8729-9475e4539988', 'metadata': {'height': 480, 'width': 640, 'format': 'Jpeg'}}"
   ]
  },
  {
   "cell_type": "code",
   "execution_count": 15,
   "metadata": {
    "collapsed": false
   },
   "outputs": [
    {
     "data": {
      "text/plain": [
       "['text', 'person', 'man', 'indoor', 'wall', 'ceiling', 'computer']"
      ]
     },
     "execution_count": 15,
     "metadata": {},
     "output_type": "execute_result"
    }
   ],
   "source": [
    "cat_list = d['description'].get('tags')\n",
    "cat_list"
   ]
  },
  {
   "cell_type": "code",
   "execution_count": 17,
   "metadata": {},
   "outputs": [
    {
     "name": "stdout",
     "output_type": "stream",
     "text": [
      "text\n",
      "person\n",
      "man\n",
      "indoor\n",
      "wall\n",
      "ceiling\n",
      "computer\n"
     ]
    }
   ],
   "source": [
    "for i in list(cat_list):\n",
    "    print(i)"
   ]
  },
  {
   "cell_type": "code",
   "execution_count": 26,
   "metadata": {},
   "outputs": [
    {
     "name": "stdout",
     "output_type": "stream",
     "text": [
      "<class 'str'>\n"
     ]
    },
    {
     "ename": "AttributeError",
     "evalue": "'str' object has no attribute 'decode'",
     "output_type": "error",
     "traceback": [
      "\u001b[1;31m---------------------------------------------------------------------------\u001b[0m",
      "\u001b[1;31mAttributeError\u001b[0m                            Traceback (most recent call last)",
      "\u001b[1;32mc:\\Users\\kluse\\Documents\\robo\\I.BA_ROBO.H2201\\pepper\\H1\\tmp_processresponse.ipynb Cell 6\u001b[0m in \u001b[0;36m<cell line: 3>\u001b[1;34m()\u001b[0m\n\u001b[0;32m      <a href='vscode-notebook-cell:/c%3A/Users/kluse/Documents/robo/I.BA_ROBO.H2201/pepper/H1/tmp_processresponse.ipynb#W5sZmlsZQ%3D%3D?line=0'>1</a>\u001b[0m data \u001b[39m=\u001b[39m \u001b[39m\"\u001b[39m\u001b[39m[\u001b[39m\u001b[39m'\u001b[39m\u001b[39mperson\u001b[39m\u001b[39m'\u001b[39m\u001b[39m,\u001b[39m\u001b[39m'\u001b[39m\u001b[39mindoor\u001b[39m\u001b[39m'\u001b[39m\u001b[39m,\u001b[39m\u001b[39m'\u001b[39m\u001b[39mwall\u001b[39m\u001b[39m'\u001b[39m\u001b[39m,\u001b[39m\u001b[39m'\u001b[39m\u001b[39mman\u001b[39m\u001b[39m'\u001b[39m\u001b[39m]\u001b[39m\u001b[39m\"\u001b[39m\n\u001b[0;32m      <a href='vscode-notebook-cell:/c%3A/Users/kluse/Documents/robo/I.BA_ROBO.H2201/pepper/H1/tmp_processresponse.ipynb#W5sZmlsZQ%3D%3D?line=1'>2</a>\u001b[0m \u001b[39mprint\u001b[39m(\u001b[39mtype\u001b[39m(data))\n\u001b[1;32m----> <a href='vscode-notebook-cell:/c%3A/Users/kluse/Documents/robo/I.BA_ROBO.H2201/pepper/H1/tmp_processresponse.ipynb#W5sZmlsZQ%3D%3D?line=2'>3</a>\u001b[0m data \u001b[39m=\u001b[39m data\u001b[39m.\u001b[39;49mdecode(\u001b[39m'\u001b[39m\u001b[39mutf-8\u001b[39m\u001b[39m'\u001b[39m)\n\u001b[0;32m      <a href='vscode-notebook-cell:/c%3A/Users/kluse/Documents/robo/I.BA_ROBO.H2201/pepper/H1/tmp_processresponse.ipynb#W5sZmlsZQ%3D%3D?line=3'>4</a>\u001b[0m \u001b[39mprint\u001b[39m(data)\n",
      "\u001b[1;31mAttributeError\u001b[0m: 'str' object has no attribute 'decode'"
     ]
    }
   ],
   "source": [
    "data = \"['person','indoor','wall','man']\"\n",
    "print(type(data))\n",
    "data = data.decode('utf-8')\n",
    "print(data)"
   ]
  }
 ],
 "metadata": {
  "kernelspec": {
   "display_name": "hslu",
   "language": "python",
   "name": "python3"
  },
  "language_info": {
   "codemirror_mode": {
    "name": "ipython",
    "version": 3
   },
   "file_extension": ".py",
   "mimetype": "text/x-python",
   "name": "python",
   "nbconvert_exporter": "python",
   "pygments_lexer": "ipython3",
   "version": "3.10.6"
  },
  "vscode": {
   "interpreter": {
    "hash": "e4966d2a7585fd1cffe75d2f63d56b8e758449507e2d4de7f8c723faeaf963fb"
   }
  }
 },
 "nbformat": 4,
 "nbformat_minor": 1
}
