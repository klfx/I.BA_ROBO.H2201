{
 "cells": [
  {
   "cell_type": "markdown",
   "id": "acb53f8c-78c0-4c8a-afa2-362240198782",
   "metadata": {},
   "source": [
    "## Initialization"
   ]
  },
  {
   "cell_type": "code",
   "execution_count": null,
   "id": "7fae0288-bcfd-410c-8022-e47fbd1cce30",
   "metadata": {},
   "outputs": [],
   "source": [
    "import numpy as np\n",
    "import serial as ser\n",
    "s = ser.Serial ('COM5', baudrate = 9600, parity = 'N', bytesize = 8, stopbits = 1, timeout = None)"
   ]
  },
  {
   "cell_type": "code",
   "execution_count": null,
   "id": "d16ce731-a0c5-47e3-91c1-2f8011fc70d6",
   "metadata": {},
   "outputs": [],
   "source": [
    "def Rx (phi):\n",
    "    t = phi * np.pi / 180\n",
    "    c = np.cos (t)\n",
    "    s = np.sin (t)\n",
    "    return np.array ([\n",
    "        [1, 0,  0, 0],\n",
    "        [0, c, -s, 0],\n",
    "        [0, s,  c, 0],\n",
    "        [0, 0,  0, 1]\n",
    "    ])\n",
    "\n",
    "def Ry (phi):\n",
    "    t = phi * np.pi / 180\n",
    "    c = np.cos (t)\n",
    "    s = np.sin (t)\n",
    "    return np.array ([\n",
    "        [c, 0,  s, 0],\n",
    "        [0, 1,  0, 0],\n",
    "        [-s, 0, c, 0],\n",
    "        [0, 0,  0, 1]\n",
    "    ])\n",
    "\n",
    "def Rz (phi):\n",
    "    t = phi * np.pi / 180\n",
    "    c = np.cos (t)\n",
    "    s = np.sin (t)\n",
    "    return np.array ([\n",
    "        [c, -s,  0, 0],\n",
    "        [s, c,  0, 0],\n",
    "        [0, 0, 1, 0],\n",
    "        [0, 0,  0, 1]\n",
    "    ])\n",
    "\n",
    "def Tx (x):\n",
    "    return np.array ([\n",
    "        [1, 0, 0, x],\n",
    "        [0, 1, 0, 0],\n",
    "        [0, 0, 1, 0],\n",
    "        [0, 0, 0, 1]\n",
    "    ])\n",
    "\n",
    "def Ty (y):\n",
    "    return np.array ([\n",
    "        [1, 0, 0, 0],\n",
    "        [0, 1, 0, y],\n",
    "        [0, 0, 1, 0],\n",
    "        [0, 0, 0, 1]\n",
    "    ])\n",
    "\n",
    "def Tz (z):\n",
    "    return np.array ([\n",
    "        [1, 0, 0, 0],\n",
    "        [0, 1, 0, 0],\n",
    "        [0, 0, 1, z],\n",
    "        [0, 0, 0, 1]\n",
    "    ])\n",
    "\n",
    "def move(a):\n",
    "    startpoint= np.array([90, 90, 87, 90, 90, 65])\n",
    "    a_calc = startpoint + a\n",
    "    command = f'{a_calc[0]} b {a_calc[1]} s {a_calc[2]} e {a_calc[3]} v {a_calc[4]} w {a[5]} g\\r\\n'\n",
    "    res = Tx(-125) @ Rz(-a[0]) @ Tz(71.5) @ Ry(a[1]) @ Tz(125) @ Ry(a[2]) @ Tz(125) @ Ry(a[3]) @ Tz(60) @ Tz(132)\n",
    "    \n",
    "    if res[2,3] < 0:\n",
    "       raise Exception(f'Illegal z value: {res[2,3]} lower than 0')\n",
    "    else:\n",
    "        s.write(command.encode())\n",
    "        return res\n",
    "    \n",
    "def move_nocheck(a):\n",
    "    startpoint= np.array([90, 90, 87, 90, 90, 65])\n",
    "    a_calc = startpoint + a\n",
    "    command = f'{a_calc[0]} b {a_calc[1]} s {a_calc[2]} e {a_calc[3]} v {a_calc[4]} w {a[5]} g\\r\\n'\n",
    "    res = Tx(-125) @ Rz(-a[0]) @ Tz(71.5) @ Ry(a[1]) @ Tz(125) @ Ry(a[2]) @ Tz(125) @ Ry(a[3]) @ Tz(60) @ Tz(132)\n",
    "\n",
    "    s.write(command.encode())\n",
    "    return res"
   ]
  },
  {
   "cell_type": "markdown",
   "id": "bdea9510-be88-4e14-b735-147b014cdfd8",
   "metadata": {},
   "source": [
    "### Move to Init Position"
   ]
  },
  {
   "cell_type": "code",
   "execution_count": null,
   "id": "9a59e5ec-4b5b-484c-93af-b9dfbf611199",
   "metadata": {},
   "outputs": [],
   "source": [
    "move(np.array([0,0,0,0,0,0]))"
   ]
  },
  {
   "cell_type": "markdown",
   "id": "b0c3b295-c564-416a-a5b6-8bdf7013c107",
   "metadata": {},
   "source": [
    "### Demo 1"
   ]
  },
  {
   "cell_type": "code",
   "execution_count": null,
   "id": "1b38065a-2d95-49fd-981a-5249c5f248cb",
   "metadata": {},
   "outputs": [],
   "source": [
    "move(np.array([0,-20,-90,-90,0,0]))"
   ]
  },
  {
   "cell_type": "markdown",
   "id": "a629ada6-311b-4975-a44e-1615e99ecb4d",
   "metadata": {},
   "source": [
    "### Demo 2 (Warning: negative z / check bypass)"
   ]
  },
  {
   "cell_type": "code",
   "execution_count": null,
   "id": "0dc3a495-e575-41a3-93b2-203a7ddccea4",
   "metadata": {},
   "outputs": [],
   "source": [
    "move_nocheck(np.array([0,-90,-90,-30,0,0]))"
   ]
  }
 ],
 "metadata": {
  "kernelspec": {
   "display_name": "Python 3 (ipykernel)",
   "language": "python",
   "name": "python3"
  },
  "language_info": {
   "codemirror_mode": {
    "name": "ipython",
    "version": 3
   },
   "file_extension": ".py",
   "mimetype": "text/x-python",
   "name": "python",
   "nbconvert_exporter": "python",
   "pygments_lexer": "ipython3",
   "version": "3.8.13"
  }
 },
 "nbformat": 4,
 "nbformat_minor": 5
}
