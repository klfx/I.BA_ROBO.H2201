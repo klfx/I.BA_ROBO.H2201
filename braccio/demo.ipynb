{
 "cells": [
  {
   "cell_type": "markdown",
   "id": "acb53f8c-78c0-4c8a-afa2-362240198782",
   "metadata": {},
   "source": [
    "## Initialization"
   ]
  },
  {
   "cell_type": "code",
   "execution_count": 2,
   "id": "7fae0288-bcfd-410c-8022-e47fbd1cce30",
   "metadata": {},
   "outputs": [],
   "source": [
    "import numpy as np\n",
    "import serial as ser\n",
    "s = ser.Serial ('COM6', baudrate = 9600, parity = 'N', bytesize = 8, stopbits = 1, timeout = None)"
   ]
  },
  {
   "cell_type": "code",
   "execution_count": 4,
   "id": "d16ce731-a0c5-47e3-91c1-2f8011fc70d6",
   "metadata": {},
   "outputs": [],
   "source": [
    "def Rx (phi):\n",
    "    t = phi * np.pi / 180\n",
    "    c = np.cos (t)\n",
    "    s = np.sin (t)\n",
    "    return np.array ([\n",
    "        [1, 0,  0, 0],\n",
    "        [0, c, -s, 0],\n",
    "        [0, s,  c, 0],\n",
    "        [0, 0,  0, 1]\n",
    "    ])\n",
    "\n",
    "def Ry (phi):\n",
    "    t = phi * np.pi / 180\n",
    "    c = np.cos (t)\n",
    "    s = np.sin (t)\n",
    "    return np.array ([\n",
    "        [c, 0,  s, 0],\n",
    "        [0, 1,  0, 0],\n",
    "        [-s, 0, c, 0],\n",
    "        [0, 0,  0, 1]\n",
    "    ])\n",
    "\n",
    "def Rz (phi):\n",
    "    t = phi * np.pi / 180\n",
    "    c = np.cos (t)\n",
    "    s = np.sin (t)\n",
    "    return np.array ([\n",
    "        [c, -s,  0, 0],\n",
    "        [s, c,  0, 0],\n",
    "        [0, 0, 1, 0],\n",
    "        [0, 0,  0, 1]\n",
    "    ])\n",
    "\n",
    "def Tx (x):\n",
    "    return np.array ([\n",
    "        [1, 0, 0, x],\n",
    "        [0, 1, 0, 0],\n",
    "        [0, 0, 1, 0],\n",
    "        [0, 0, 0, 1]\n",
    "    ])\n",
    "\n",
    "def Ty (y):\n",
    "    return np.array ([\n",
    "        [1, 0, 0, 0],\n",
    "        [0, 1, 0, y],\n",
    "        [0, 0, 1, 0],\n",
    "        [0, 0, 0, 1]\n",
    "    ])\n",
    "\n",
    "def Tz (z):\n",
    "    return np.array ([\n",
    "        [1, 0, 0, 0],\n",
    "        [0, 1, 0, 0],\n",
    "        [0, 0, 1, z],\n",
    "        [0, 0, 0, 1]\n",
    "    ])\n",
    "\n",
    "z_sec_offset = 0\n",
    "\n",
    "def move(a):\n",
    "    startpoint= np.array([90, 90, 90, 90, 90, 65])\n",
    "    a_calc = startpoint + a\n",
    "    command = f'{-a_calc[0]} b {a_calc[1]} s {a_calc[2]} e {a_calc[3]} v {a_calc[4]} w {a_calc[5]} g\\r\\n'\n",
    "    res = Tx(-125) @ Rz(-a[0]) @ Tz(71.5) @ Ry(a[1]) @ Tz(125) @ Ry(a[2]) @ Tz(125) @ Ry(a[3]) @ Tz(60) @ Tz(132)\n",
    "    \n",
    "    if res[2,3] < z_sec_offset:\n",
    "       raise Exception(f'Illegal z value: {res[2,3]} lower than {z_sec_offset}')\n",
    "    else:\n",
    "        s.write(command.encode())\n",
    "        return res\n",
    "    \n",
    "def move_nocheck(a):\n",
    "    startpoint= np.array([90, 90, 90, 90, 90, 65])\n",
    "    a_calc = startpoint + a\n",
    "    command = f'{-a_calc[0]} b {a_calc[1]} s {a_calc[2]} e {a_calc[3]} v {a_calc[4]} w {a_calc[5]} g\\r\\n'\n",
    "    res = Tx(-125) @ Rz(-a[0]) @ Tz(71.5) @ Ry(a[1]) @ Tz(125) @ Ry(a[2]) @ Tz(125) @ Ry(a[3]) @ Tz(60) @ Tz(132)\n",
    "\n",
    "    s.write(command.encode())\n",
    "    return res"
   ]
  },
  {
   "cell_type": "markdown",
   "id": "bdea9510-be88-4e14-b735-147b014cdfd8",
   "metadata": {},
   "source": [
    "### Move to Init Position"
   ]
  },
  {
   "cell_type": "code",
   "execution_count": 5,
   "id": "9a59e5ec-4b5b-484c-93af-b9dfbf611199",
   "metadata": {},
   "outputs": [
    {
     "data": {
      "text/plain": [
       "array([[   1. ,    0. ,    0. , -125. ],\n",
       "       [   0. ,    1. ,    0. ,    0. ],\n",
       "       [   0. ,    0. ,    1. ,  513.5],\n",
       "       [   0. ,    0. ,    0. ,    1. ]])"
      ]
     },
     "execution_count": 5,
     "metadata": {},
     "output_type": "execute_result"
    }
   ],
   "source": [
    "move(np.array([0,0,0,0,0,0]))"
   ]
  },
  {
   "cell_type": "markdown",
   "id": "a629ada6-311b-4975-a44e-1615e99ecb4d",
   "metadata": {},
   "source": [
    "### Demo 1 (Warning: negative z / check bypass)"
   ]
  },
  {
   "cell_type": "code",
   "execution_count": 6,
   "id": "0dc3a495-e575-41a3-93b2-203a7ddccea4",
   "metadata": {},
   "outputs": [
    {
     "data": {
      "text/plain": [
       "array([[  -0.93969262,    0.        ,    0.34202014, -184.33213248],\n",
       "       [   0.        ,    1.        ,    0.        ,    0.        ],\n",
       "       [  -0.34202014,    0.        ,   -0.93969262, -233.92098319],\n",
       "       [   0.        ,    0.        ,    0.        ,    1.        ]])"
      ]
     },
     "execution_count": 6,
     "metadata": {},
     "output_type": "execute_result"
    }
   ],
   "source": [
    "move_nocheck(np.array([0,-90,-90,-20,0,0]))"
   ]
  },
  {
   "cell_type": "code",
   "execution_count": 7,
   "id": "f42842bc-6f38-4b9f-8426-5e508ec5c8cf",
   "metadata": {},
   "outputs": [
    {
     "data": {
      "text/plain": [
       "array([[   1. ,    0. ,    0. , -125. ],\n",
       "       [   0. ,    1. ,    0. ,    0. ],\n",
       "       [   0. ,    0. ,    1. ,  513.5],\n",
       "       [   0. ,    0. ,    0. ,    1. ]])"
      ]
     },
     "execution_count": 7,
     "metadata": {},
     "output_type": "execute_result"
    }
   ],
   "source": [
    "move(np.array([0,0,0,0,0,0]))"
   ]
  },
  {
   "cell_type": "markdown",
   "id": "416f6047-48bb-418a-8e08-133c83cf4c34",
   "metadata": {},
   "source": [
    "### Demo 2: opposite side / close to z"
   ]
  },
  {
   "cell_type": "code",
   "execution_count": 8,
   "id": "4d41c267-a100-48cd-accc-766c9e927917",
   "metadata": {},
   "outputs": [
    {
     "data": {
      "text/plain": [
       "array([[ -0.93358043,   0.        ,   0.35836795, 131.30664631],\n",
       "       [  0.        ,   1.        ,   0.        ,   0.        ],\n",
       "       [ -0.35836795,   0.        ,  -0.93358043,   0.50573359],\n",
       "       [  0.        ,   0.        ,   0.        ,   1.        ]])"
      ]
     },
     "execution_count": 8,
     "metadata": {},
     "output_type": "execute_result"
    }
   ],
   "source": [
    "move(np.array([0,30,60,69,0,0]))"
   ]
  },
  {
   "cell_type": "markdown",
   "id": "b0c3b295-c564-416a-a5b6-8bdf7013c107",
   "metadata": {},
   "source": [
    "### Demo 3 (Exception)"
   ]
  },
  {
   "cell_type": "code",
   "execution_count": 9,
   "id": "1b38065a-2d95-49fd-981a-5249c5f248cb",
   "metadata": {},
   "outputs": [
    {
     "ename": "Exception",
     "evalue": "Illegal z value: -5.704583174446242 lower than 0",
     "output_type": "error",
     "traceback": [
      "\u001b[1;31m---------------------------------------------------------------------------\u001b[0m",
      "\u001b[1;31mException\u001b[0m                                 Traceback (most recent call last)",
      "Input \u001b[1;32mIn [9]\u001b[0m, in \u001b[0;36m<cell line: 1>\u001b[1;34m()\u001b[0m\n\u001b[1;32m----> 1\u001b[0m \u001b[43mmove\u001b[49m\u001b[43m(\u001b[49m\u001b[43mnp\u001b[49m\u001b[38;5;241;43m.\u001b[39;49m\u001b[43marray\u001b[49m\u001b[43m(\u001b[49m\u001b[43m[\u001b[49m\u001b[38;5;241;43m0\u001b[39;49m\u001b[43m,\u001b[49m\u001b[38;5;241;43m30\u001b[39;49m\u001b[43m,\u001b[49m\u001b[38;5;241;43m60\u001b[39;49m\u001b[43m,\u001b[49m\u001b[38;5;241;43m75\u001b[39;49m\u001b[43m,\u001b[49m\u001b[38;5;241;43m0\u001b[39;49m\u001b[43m,\u001b[49m\u001b[38;5;241;43m0\u001b[39;49m\u001b[43m]\u001b[49m\u001b[43m)\u001b[49m\u001b[43m)\u001b[49m\n",
      "Input \u001b[1;32mIn [4]\u001b[0m, in \u001b[0;36mmove\u001b[1;34m(a)\u001b[0m\n\u001b[0;32m     64\u001b[0m res \u001b[38;5;241m=\u001b[39m Tx(\u001b[38;5;241m-\u001b[39m\u001b[38;5;241m125\u001b[39m) \u001b[38;5;241m@\u001b[39m Rz(\u001b[38;5;241m-\u001b[39ma[\u001b[38;5;241m0\u001b[39m]) \u001b[38;5;241m@\u001b[39m Tz(\u001b[38;5;241m71.5\u001b[39m) \u001b[38;5;241m@\u001b[39m Ry(a[\u001b[38;5;241m1\u001b[39m]) \u001b[38;5;241m@\u001b[39m Tz(\u001b[38;5;241m125\u001b[39m) \u001b[38;5;241m@\u001b[39m Ry(a[\u001b[38;5;241m2\u001b[39m]) \u001b[38;5;241m@\u001b[39m Tz(\u001b[38;5;241m125\u001b[39m) \u001b[38;5;241m@\u001b[39m Ry(a[\u001b[38;5;241m3\u001b[39m]) \u001b[38;5;241m@\u001b[39m Tz(\u001b[38;5;241m60\u001b[39m) \u001b[38;5;241m@\u001b[39m Tz(\u001b[38;5;241m132\u001b[39m)\n\u001b[0;32m     66\u001b[0m \u001b[38;5;28;01mif\u001b[39;00m res[\u001b[38;5;241m2\u001b[39m,\u001b[38;5;241m3\u001b[39m] \u001b[38;5;241m<\u001b[39m z_sec_offset:\n\u001b[1;32m---> 67\u001b[0m    \u001b[38;5;28;01mraise\u001b[39;00m \u001b[38;5;167;01mException\u001b[39;00m(\u001b[38;5;124mf\u001b[39m\u001b[38;5;124m'\u001b[39m\u001b[38;5;124mIllegal z value: \u001b[39m\u001b[38;5;132;01m{\u001b[39;00mres[\u001b[38;5;241m2\u001b[39m,\u001b[38;5;241m3\u001b[39m]\u001b[38;5;132;01m}\u001b[39;00m\u001b[38;5;124m lower than \u001b[39m\u001b[38;5;132;01m{\u001b[39;00mz_sec_offset\u001b[38;5;132;01m}\u001b[39;00m\u001b[38;5;124m'\u001b[39m)\n\u001b[0;32m     68\u001b[0m \u001b[38;5;28;01melse\u001b[39;00m:\n\u001b[0;32m     69\u001b[0m     s\u001b[38;5;241m.\u001b[39mwrite(command\u001b[38;5;241m.\u001b[39mencode())\n",
      "\u001b[1;31mException\u001b[0m: Illegal z value: -5.704583174446242 lower than 0"
     ]
    }
   ],
   "source": [
    "move(np.array([0,30,60,75,0,0]))"
   ]
  },
  {
   "cell_type": "markdown",
   "id": "e7361f91-7d6f-4b30-9b73-b8e8b5bd935c",
   "metadata": {},
   "source": [
    "## Close Serial"
   ]
  },
  {
   "cell_type": "code",
   "execution_count": 10,
   "id": "6c214652-9b97-49e0-831b-a4778bacb761",
   "metadata": {},
   "outputs": [],
   "source": [
    "s.close()"
   ]
  }
 ],
 "metadata": {
  "kernelspec": {
   "display_name": "Python 3 (ipykernel)",
   "language": "python",
   "name": "python3"
  },
  "language_info": {
   "codemirror_mode": {
    "name": "ipython",
    "version": 3
   },
   "file_extension": ".py",
   "mimetype": "text/x-python",
   "name": "python",
   "nbconvert_exporter": "python",
   "pygments_lexer": "ipython3",
   "version": "3.8.13"
  }
 },
 "nbformat": 4,
 "nbformat_minor": 5
}
