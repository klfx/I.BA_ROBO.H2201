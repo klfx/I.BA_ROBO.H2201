{
 "cells": [
  {
   "cell_type": "code",
   "execution_count": 2,
   "id": "b055abb7",
   "metadata": {},
   "outputs": [],
   "source": [
    "import numpy as np"
   ]
  },
  {
   "cell_type": "markdown",
   "id": "3dce39f4-96df-4609-8651-aa982261d35c",
   "metadata": {},
   "source": [
    "### Open Serial Port\n",
    "You might need to change 'COM'"
   ]
  },
  {
   "cell_type": "code",
   "execution_count": 3,
   "id": "6acbf288-06ea-4cc8-8acb-0f25c6f11385",
   "metadata": {},
   "outputs": [
    {
     "ename": "ModuleNotFoundError",
     "evalue": "No module named 'serial'",
     "output_type": "error",
     "traceback": [
      "\u001b[1;31m---------------------------------------------------------------------------\u001b[0m",
      "\u001b[1;31mModuleNotFoundError\u001b[0m                       Traceback (most recent call last)",
      "Input \u001b[1;32mIn [3]\u001b[0m, in \u001b[0;36m<cell line: 1>\u001b[1;34m()\u001b[0m\n\u001b[1;32m----> 1\u001b[0m \u001b[38;5;28;01mimport\u001b[39;00m \u001b[38;5;21;01mserial\u001b[39;00m \u001b[38;5;28;01mas\u001b[39;00m \u001b[38;5;21;01mser\u001b[39;00m\n\u001b[0;32m      2\u001b[0m s \u001b[38;5;241m=\u001b[39m ser\u001b[38;5;241m.\u001b[39mSerial (\u001b[38;5;124m'\u001b[39m\u001b[38;5;124mCOM5\u001b[39m\u001b[38;5;124m'\u001b[39m, baudrate \u001b[38;5;241m=\u001b[39m \u001b[38;5;241m9600\u001b[39m, parity \u001b[38;5;241m=\u001b[39m \u001b[38;5;124m'\u001b[39m\u001b[38;5;124mN\u001b[39m\u001b[38;5;124m'\u001b[39m, bytesize \u001b[38;5;241m=\u001b[39m \u001b[38;5;241m8\u001b[39m, stopbits \u001b[38;5;241m=\u001b[39m \u001b[38;5;241m1\u001b[39m, timeout \u001b[38;5;241m=\u001b[39m \u001b[38;5;28;01mNone\u001b[39;00m)\n",
      "\u001b[1;31mModuleNotFoundError\u001b[0m: No module named 'serial'"
     ]
    }
   ],
   "source": [
    "import serial as ser\n",
    "s = ser.Serial ('COM5', baudrate = 9600, parity = 'N', bytesize = 8, stopbits = 1, timeout = None)"
   ]
  },
  {
   "cell_type": "markdown",
   "id": "be759e39-a4f7-4eee-b34c-d2de2fb9a0e3",
   "metadata": {},
   "source": [
    "### Define Rotation / Transformation Functions"
   ]
  },
  {
   "cell_type": "code",
   "execution_count": 4,
   "id": "0cb3bba0",
   "metadata": {},
   "outputs": [],
   "source": [
    "def Rx (phi):\n",
    "    t = phi * np.pi / 180\n",
    "    c = np.cos (t)\n",
    "    s = np.sin (t)\n",
    "    return np.array ([\n",
    "        [1, 0,  0, 0],\n",
    "        [0, c, -s, 0],\n",
    "        [0, s,  c, 0],\n",
    "        [0, 0,  0, 1]\n",
    "    ])\n",
    "\n",
    "def Ry (phi):\n",
    "    t = phi * np.pi / 180\n",
    "    c = np.cos (t)\n",
    "    s = np.sin (t)\n",
    "    return np.array ([\n",
    "        [c, 0,  s, 0],\n",
    "        [0, 1,  0, 0],\n",
    "        [-s, 0, c, 0],\n",
    "        [0, 0,  0, 1]\n",
    "    ])\n",
    "\n",
    "def Rz (phi):\n",
    "    t = phi * np.pi / 180\n",
    "    c = np.cos (t)\n",
    "    s = np.sin (t)\n",
    "    return np.array ([\n",
    "        [c, -s,  0, 0],\n",
    "        [s, c,  0, 0],\n",
    "        [0, 0, 1, 0],\n",
    "        [0, 0,  0, 1]\n",
    "    ])\n",
    "\n",
    "def Tx (x):\n",
    "    return np.array ([\n",
    "        [1, 0, 0, x],\n",
    "        [0, 1, 0, 0],\n",
    "        [0, 0, 1, 0],\n",
    "        [0, 0, 0, 1]\n",
    "    ])\n",
    "\n",
    "def Ty (y):\n",
    "    return np.array ([\n",
    "        [1, 0, 0, 0],\n",
    "        [0, 1, 0, y],\n",
    "        [0, 0, 1, 0],\n",
    "        [0, 0, 0, 1]\n",
    "    ])\n",
    "\n",
    "def Tz (z):\n",
    "    return np.array ([\n",
    "        [1, 0, 0, 0],\n",
    "        [0, 1, 0, 0],\n",
    "        [0, 0, 1, z],\n",
    "        [0, 0, 0, 1]\n",
    "    ])"
   ]
  },
  {
   "cell_type": "code",
   "execution_count": 10,
   "id": "8054d73a-880c-492a-b9fd-b6c985a50a7c",
   "metadata": {},
   "outputs": [],
   "source": [
    "def move(a):\n",
    "    \n",
    "    #custom start point\n",
    "    #startpoint = np.array([90,85,175,180,90,65])\n",
    "    startpoint= np.array([90, 90, 87, 90, 90, 65])\n",
    "    a_calc = startpoint + a\n",
    "    #print(a)\n",
    "    command = f'{a_calc[0]} b {a_calc[1]} s {a_calc[2]} e {a_calc[3]} v {a_calc[4]} w {a[5]} g\\r\\n'\n",
    "    res = Tx(-125) @ Rz(-a[0]) @ Tz(71.5) @ Ry(a[1]) @ Tz(125) @ Ry(a[2]) @ Tz(125) @ Ry(a[3]) @ Tz(60) @ Tz(132)\n",
    "    \n",
    "    if res[2,3] < 0:\n",
    "       raise Exception(f'Illegal z value: {res[2,3]} lower than 0')\n",
    "    else:\n",
    "        s.write(command.encode())\n",
    "        return res\n",
    "    \n"
   ]
  },
  {
   "cell_type": "code",
   "execution_count": 20,
   "id": "7c77b542-3430-4e47-bad4-8b16df9ae4c0",
   "metadata": {},
   "outputs": [],
   "source": [
    "def move_nocheck(a):\n",
    "    \n",
    "    #custom start point\n",
    "    #startpoint = np.array([90,85,175,180,90,65])\n",
    "    startpoint= np.array([90, 90, 87, 90, 90, 65])\n",
    "    a_calc = startpoint + a\n",
    "    #print(a)\n",
    "    command = f'{a_calc[0]} b {a_calc[1]} s {a_calc[2]} e {a_calc[3]} v {a_calc[4]} w {a[5]} g\\r\\n'\n",
    "    res = Tx(-125) @ Rz(-a[0]) @ Tz(71.5) @ Ry(a[1]) @ Tz(125) @ Ry(a[2]) @ Tz(125) @ Ry(a[3]) @ Tz(60) @ Tz(132)\n",
    "\n",
    "    s.write(command.encode())\n",
    "    return res\n",
    "    \n"
   ]
  },
  {
   "cell_type": "code",
   "execution_count": 15,
   "id": "79ff225d",
   "metadata": {},
   "outputs": [],
   "source": [
    "Rz(-90)@Tz(40)\n",
    "\n",
    "#1. Rot z Base \n",
    "#2. Tz 71.5mm\n",
    "#3  Rot y Shoulder\n",
    "#4  Tz 125mm\n",
    "#5  Rot y Elbow\n",
    "#6  Tz 125mm\n",
    "#7  Rot y Wrist\n",
    "#8  Tz 60mm\n",
    "#9 (Wrist Rot)\n",
    "#10 Tz 132mm\n",
    "#11 Tx OFFSET 12.5mm for new start position\n",
    "\n",
    "#def transformation(a):\n",
    "#    return Tx(-125) @ Rz(-a[0]) @ Tz(71.5) @ Ry(a[1]) @ Tz(125) @ Ry(a[2]) @ Tz(125) @ Ry(a[3]) @ Tz(60) @ Tz(132)"
   ]
  },
  {
   "cell_type": "code",
   "execution_count": 15,
   "id": "0f0f3131",
   "metadata": {},
   "outputs": [
    {
     "data": {
      "text/plain": [
       "array([[   1. ,    0. ,    0. , -125. ],\n",
       "       [   0. ,    1. ,    0. ,    0. ],\n",
       "       [   0. ,    0. ,    1. ,  513.5],\n",
       "       [   0. ,    0. ,    0. ,    1. ]])"
      ]
     },
     "execution_count": 15,
     "metadata": {},
     "output_type": "execute_result"
    }
   ],
   "source": [
    "\n",
    "a = np.array([0,0,0,0,0,0])\n",
    "\n",
    "move(a)\n",
    "#transformation(a)"
   ]
  },
  {
   "cell_type": "code",
   "execution_count": 25,
   "id": "19c5a35a-df00-471e-8333-615cc21e580d",
   "metadata": {},
   "outputs": [
    {
     "data": {
      "text/plain": [
       "array([[  -0.8660254 ,    0.        ,    0.5       , -154.        ],\n",
       "       [   0.        ,    1.        ,    0.        ,    0.        ],\n",
       "       [  -0.5       ,    0.        ,   -0.8660254 , -219.77687753],\n",
       "       [   0.        ,    0.        ,    0.        ,    1.        ]])"
      ]
     },
     "execution_count": 25,
     "metadata": {},
     "output_type": "execute_result"
    }
   ],
   "source": [
    "### Preset Demo\n",
    "\n",
    "#move(np.array([0,-20,-90,-90,0,0]))\n",
    "move_nocheck(np.array([0,-90,-90,-30,0,0]))"
   ]
  },
  {
   "cell_type": "code",
   "execution_count": 5,
   "id": "be993c0d-37ff-4419-9f81-a4994bc859a8",
   "metadata": {},
   "outputs": [],
   "source": [
    "def rad(phi):\n",
    "    return phi * np.pi / 180\n",
    "def c(phi):\n",
    "    return np.cos(phi)\n",
    "def s(phi):\n",
    "    return np.sin(phi)\n",
    "\n",
    "def dh_calc(a,alpha,d,theta):\n",
    "    return np.array([\n",
    "        [c(theta), -s(theta), 0, a],\n",
    "        [s(theta)*c(alpha), c(theta)*c(alpha), -s(alpha), -d * s(alpha)],\n",
    "        [s(theta)*s(alpha), c(theta)*s(alpha), c(alpha), d * c(alpha)],\n",
    "        [0,0,0,1]\n",
    "    ])"
   ]
  },
  {
   "cell_type": "code",
   "execution_count": 10,
   "id": "e96c6c1e-a573-429a-af48-5332bdab4e0e",
   "metadata": {},
   "outputs": [
    {
     "data": {
      "text/plain": [
       "array([[ True,  True,  True,  True],\n",
       "       [ True,  True,  True,  True],\n",
       "       [ True,  True,  True,  True],\n",
       "       [ True,  True,  True,  True]])"
      ]
     },
     "execution_count": 10,
     "metadata": {},
     "output_type": "execute_result"
    }
   ],
   "source": [
    "b_a = rad(-90)\n",
    "r1 = np.array([\n",
    "    [c(b_a),-s(b_a),0,0],\n",
    "    [s(b_a),c(b_a),0,0],\n",
    "    [0,0,1,0],\n",
    "    [0,0,0,1]\n",
    "])\n",
    "\n",
    "t1 = np.array([\n",
    "    [1,0,0,0],\n",
    "    [0,1,0,0],\n",
    "    [0,0,1,40],\n",
    "    [0,0,0,1]\n",
    "])\n",
    "\n"
   ]
  },
  {
   "cell_type": "markdown",
   "id": "fef9fae8-1233-4309-98c1-0299fbe21f51",
   "metadata": {},
   "source": [
    "### Warning: Experimental Code for DH\n",
    "Never tested and probably not working"
   ]
  },
  {
   "cell_type": "code",
   "execution_count": 15,
   "id": "4d6e814a",
   "metadata": {},
   "outputs": [
    {
     "data": {
      "text/plain": [
       "array([[ 3.06161700e-16, -6.12323400e-17,  1.00000000e+00,\n",
       "         1.92000000e+02],\n",
       "       [ 6.12323400e-17, -1.00000000e+00, -6.12323400e-17,\n",
       "        -7.15000000e+01],\n",
       "       [ 1.00000000e+00,  6.12323400e-17, -3.06161700e-16,\n",
       "        -5.87830464e-14],\n",
       "       [ 0.00000000e+00,  0.00000000e+00,  0.00000000e+00,\n",
       "         1.00000000e+00]])"
      ]
     },
     "execution_count": 15,
     "metadata": {},
     "output_type": "execute_result"
    }
   ],
   "source": [
    "#warning: rad\n",
    "#Ansatz DH, nicht überprüft\n",
    "\n",
    "a1 = rad(90)\n",
    "a2 = rad(90)\n",
    "a3 = rad(180)\n",
    "a4 = rad(0)\n",
    "a5 = rad(90)\n",
    "\n",
    "\n",
    "dh_parameters = np.array ([\n",
    "    [0, rad(90), 71.5, a1],\n",
    "    [125, 0, 0, a2+rad(90)],\n",
    "    [125, 0, 0, a3],\n",
    "    [0, rad(90), 0, a4 - rad(90)],\n",
    "    [0, 0, 192, a5]\n",
    "])\n",
    "\n",
    "dh_matrices = []\n",
    "\n",
    "for row in dh_parameters:\n",
    "    dh_matrices.append(dh_calc(row[0],row[1],row[2],row[3]))\n",
    "    \n",
    "\n",
    "\n",
    "dh_matrices[0]@dh_matrices[1]@dh_matrices[2]@dh_matrices[3]@dh_matrices[4]"
   ]
  },
  {
   "cell_type": "markdown",
   "id": "e78ab7e5-3e1a-44f2-8b78-78361cad3894",
   "metadata": {},
   "source": [
    "## Reverse Kinematics"
   ]
  },
  {
   "cell_type": "code",
   "execution_count": 88,
   "id": "784deff5-8a60-4f98-be9b-0a70923937eb",
   "metadata": {},
   "outputs": [
    {
     "name": "stdout",
     "output_type": "stream",
     "text": [
      "n=1\n",
      "[[ -25.80769121]\n",
      " [-408.58166468]\n",
      " [ 661.87462883]]\n",
      "\n",
      "n=2\n",
      "[[-42.22998886]\n",
      " [-30.26262981]\n",
      " [156.74717758]]\n",
      "\n",
      "n=3\n",
      "[[19.9685796 ]\n",
      " [61.14826352]\n",
      " [83.65304351]]\n",
      "\n",
      "n=4\n",
      "[[-13.68712878]\n",
      " [ 18.41243903]\n",
      " [108.96734082]]\n",
      "\n",
      "n=5\n",
      "[[-6.25698597]\n",
      " [43.6980366 ]\n",
      " [76.90980908]]\n",
      "\n",
      "n=6\n",
      "[[-7.83960167]\n",
      " [45.09425652]\n",
      " [73.07040447]]\n",
      "\n",
      "n=7\n",
      "[[-7.80014401]\n",
      " [45.29358472]\n",
      " [72.83182863]]\n",
      "\n",
      "n=8\n",
      "[[-7.80018788]\n",
      " [45.29376373]\n",
      " [72.83149091]]\n",
      "\n",
      "n=9\n",
      "[[-7.80018788]\n",
      " [45.29376373]\n",
      " [72.83149091]]\n",
      "\n",
      "n=10\n",
      "[[-7.80018788]\n",
      " [45.29376373]\n",
      " [72.83149091]]\n",
      "\n",
      "n=11\n",
      "[[-7.80018788]\n",
      " [45.29376373]\n",
      " [72.83149091]]\n",
      "\n",
      "n=12\n",
      "[[-7.80018788]\n",
      " [45.29376373]\n",
      " [72.83149091]]\n",
      "\n",
      "n=13\n",
      "[[-7.80018788]\n",
      " [45.29376373]\n",
      " [72.83149091]]\n",
      "\n",
      "n=14\n",
      "[[-7.80018788]\n",
      " [45.29376373]\n",
      " [72.83149091]]\n",
      "\n",
      "n=15\n",
      "[[-7.80018788]\n",
      " [45.29376373]\n",
      " [72.83149091]]\n",
      "\n"
     ]
    }
   ],
   "source": [
    "#target = np.array([x,y,z])\n",
    "target = np.array([240,50,10])\n",
    "\n",
    "h = 1E-8\n",
    "\n",
    "def f(a):\n",
    "    \n",
    "    #Implement three axis of freedom\n",
    "    res = Tx(-125) @ Rz(-a[0]) @ Tz(71.5) @ Ry(a[1]) @ Tz(125) @ Ry(a[2]) @ Tz(125) @ Ry(0) @ Tz(60) @ Tz(132)\n",
    "    \n",
    "    delta = target.reshape(3,1) - res[0:3,3:4]\n",
    "    #print(f'i calc {delta} = {target.reshape(3,1)} - {res[0:3,3:4]}')\n",
    "    return delta\n",
    "\n",
    "def f_d(x0):\n",
    "    y0 = f (x0)\n",
    "    #print (y0)\n",
    "    x1 = np.copy (x0); x1 [0] += h; y1 = f (x1); df1 = (y1 - y0) / h;\n",
    "    x2 = np.copy (x0); x2 [1] += h; y2 = f (x2); df2 = (y2 - y0) / h;\n",
    "    x3 = np.copy (x0); x3 [2] += h; y3 = f (x3); df3 = (y3 - y0) / h;\n",
    "    J = np.concatenate ((df1, df2, df3), axis = 1)\n",
    "    dx = np.linalg.solve (J, y0)\n",
    "    print (dx)\n",
    "\n",
    "def rev_k(x0):\n",
    "    y0 = f(x0)\n",
    "    \n",
    "    col1 = np.copy(x0)\n",
    "    col1[0] += h\n",
    "    col1_y = f(col1)\n",
    "    col1_df = (col1_y - y0) / h\n",
    "\n",
    "    col2 = np.copy(x0)\n",
    "    col2[1] += h\n",
    "    col2_y = f(col2)\n",
    "    col2_df = (col2_y - y0) / h\n",
    "    \n",
    "    col3 = np.copy(x0)\n",
    "    col3[2] += h\n",
    "    col3_y = f(col3)\n",
    "    col3_df = (col3_y - y0) / h\n",
    "    \n",
    "    J = np.concatenate((col1_df,col2_df,col3_df),axis=1)\n",
    "    \n",
    "    dx = np.linalg.solve (J,y0)\n",
    "    print(dx)\n",
    "    print(x0)\n",
    "\n",
    "\n",
    "#Jacobimatrix\n",
    "def j(x0):\n",
    "    y0 = f(x0)\n",
    "    \n",
    "    col1 = np.copy(x0)\n",
    "    col1[0] += h\n",
    "    col1_y = f(col1)\n",
    "    col1_df = (col1_y - y0) / h\n",
    "\n",
    "    col2 = np.copy(x0)\n",
    "    col2[1] += h\n",
    "    col2_y = f(col2)\n",
    "    col2_df = (col2_y - y0) / h\n",
    "    \n",
    "    col3 = np.copy(x0)\n",
    "    col3[2] += h\n",
    "    col3_y = f(col3)\n",
    "    col3_df = (col3_y - y0) / h\n",
    "    \n",
    "    return np.concatenate((col1_df,col2_df,col3_df),axis=1)\n",
    "\n",
    "#Iterative newton-raphson approximation for angle correction\n",
    "def approximate(x0):\n",
    "    x = np.copy(x0).reshape(3,1)\n",
    "    for i in range(15):\n",
    "        #x -= np.linalg.solve(j(x.reshape(3,)),f(x.reshape(3,)))\n",
    "        x -= np.linalg.inv(j(x.reshape(3,))) @ f(x.reshape(3,))\n",
    "        print(f'n={i+1}\\n{x}\\n')\n",
    "\n",
    "approximate(np.array([10,10,20]).astype(float))\n",
    "#rev_k(np.array([20,10,20]).astype(float))"
   ]
  },
  {
   "cell_type": "code",
   "execution_count": null,
   "id": "99a005d3-f444-47a1-ae10-f4f68e9a089f",
   "metadata": {},
   "outputs": [],
   "source": []
  },
  {
   "cell_type": "code",
   "execution_count": null,
   "id": "82cd0037-cca4-4791-9d68-f1a88f8fd98e",
   "metadata": {},
   "outputs": [],
   "source": []
  }
 ],
 "metadata": {
  "kernelspec": {
   "display_name": "Python 3",
   "language": "python",
   "name": "python3"
  },
  "language_info": {
   "codemirror_mode": {
    "name": "ipython",
    "version": 3
   },
   "file_extension": ".py",
   "mimetype": "text/x-python",
   "name": "python",
   "nbconvert_exporter": "python",
   "pygments_lexer": "ipython3",
   "version": "3.8.8"
  }
 },
 "nbformat": 4,
 "nbformat_minor": 5
}
