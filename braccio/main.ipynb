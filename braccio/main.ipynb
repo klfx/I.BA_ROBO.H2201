{
 "cells": [
  {
   "cell_type": "code",
   "execution_count": 71,
   "id": "b055abb7",
   "metadata": {},
   "outputs": [],
   "source": [
    "import numpy as np"
   ]
  },
  {
   "cell_type": "markdown",
   "id": "3dce39f4-96df-4609-8651-aa982261d35c",
   "metadata": {},
   "source": [
    "### Open Serial Port\n",
    "You might need to change 'COM'"
   ]
  },
  {
   "cell_type": "code",
   "execution_count": 77,
   "id": "6acbf288-06ea-4cc8-8acb-0f25c6f11385",
   "metadata": {},
   "outputs": [],
   "source": [
    "import serial as ser\n",
    "s = ser.Serial ('COM6', baudrate = 9600, parity = 'N', bytesize = 8, stopbits = 1, timeout = None)"
   ]
  },
  {
   "cell_type": "markdown",
   "id": "be759e39-a4f7-4eee-b34c-d2de2fb9a0e3",
   "metadata": {},
   "source": [
    "### Define Rotation / Transformation Functions"
   ]
  },
  {
   "cell_type": "code",
   "execution_count": 73,
   "id": "0cb3bba0",
   "metadata": {},
   "outputs": [],
   "source": [
    "def Rx (phi):\n",
    "    t = phi * np.pi / 180\n",
    "    c = np.cos (t)\n",
    "    s = np.sin (t)\n",
    "    return np.array ([\n",
    "        [1, 0,  0, 0],\n",
    "        [0, c, -s, 0],\n",
    "        [0, s,  c, 0],\n",
    "        [0, 0,  0, 1]\n",
    "    ])\n",
    "\n",
    "def Ry (phi):\n",
    "    t = phi * np.pi / 180\n",
    "    c = np.cos (t)\n",
    "    s = np.sin (t)\n",
    "    return np.array ([\n",
    "        [c, 0,  s, 0],\n",
    "        [0, 1,  0, 0],\n",
    "        [-s, 0, c, 0],\n",
    "        [0, 0,  0, 1]\n",
    "    ])\n",
    "\n",
    "def Rz (phi):\n",
    "    t = phi * np.pi / 180\n",
    "    c = np.cos (t)\n",
    "    s = np.sin (t)\n",
    "    return np.array ([\n",
    "        [c, -s,  0, 0],\n",
    "        [s, c,  0, 0],\n",
    "        [0, 0, 1, 0],\n",
    "        [0, 0,  0, 1]\n",
    "    ])\n",
    "\n",
    "def Tx (x):\n",
    "    return np.array ([\n",
    "        [1, 0, 0, x],\n",
    "        [0, 1, 0, 0],\n",
    "        [0, 0, 1, 0],\n",
    "        [0, 0, 0, 1]\n",
    "    ])\n",
    "\n",
    "def Ty (y):\n",
    "    return np.array ([\n",
    "        [1, 0, 0, 0],\n",
    "        [0, 1, 0, y],\n",
    "        [0, 0, 1, 0],\n",
    "        [0, 0, 0, 1]\n",
    "    ])\n",
    "\n",
    "def Tz (z):\n",
    "    return np.array ([\n",
    "        [1, 0, 0, 0],\n",
    "        [0, 1, 0, 0],\n",
    "        [0, 0, 1, z],\n",
    "        [0, 0, 0, 1]\n",
    "    ])"
   ]
  },
  {
   "cell_type": "code",
   "execution_count": 64,
   "id": "8054d73a-880c-492a-b9fd-b6c985a50a7c",
   "metadata": {},
   "outputs": [],
   "source": [
    "def move(a):\n",
    "    \n",
    "    #custom start point\n",
    "    #startpoint = np.array([90,85,175,180,90,65])\n",
    "    startpoint= np.array([90, 90, 93, 90, 90, 65])\n",
    "    a_calc = startpoint + a\n",
    "    #print(a)\n",
    "    command = f'{-a_calc[0]} b {a_calc[1]} s {a_calc[2]} e {a_calc[3]} v {a_calc[4]} w {a[5]} g\\r\\n'\n",
    "    res = Tx(-125) @ Rz(-a[0]) @ Tz(71.5) @ Ry(a[1]) @ Tz(125) @ Ry(a[2]) @ Tz(125) @ Ry(a[3]) @ Tz(60) @ Tz(132)\n",
    "    \n",
    "    if res[2,3] < 0:\n",
    "       raise Exception(f'Illegal z value: {res[2,3]} lower than 0')\n",
    "    else:\n",
    "        s.write(command.encode())\n",
    "        return res\n",
    "    \n"
   ]
  },
  {
   "cell_type": "code",
   "execution_count": 29,
   "id": "7c77b542-3430-4e47-bad4-8b16df9ae4c0",
   "metadata": {},
   "outputs": [],
   "source": [
    "def move_nocheck(a):\n",
    "    \n",
    "    #custom start point\n",
    "    #startpoint = np.array([90,85,175,180,90,65])\n",
    "    startpoint= np.array([90, 90, 87, 90, 90, 65])\n",
    "    a_calc = startpoint + a\n",
    "    #print(a)\n",
    "    command = f'{a_calc[0]} b {a_calc[1]} s {a_calc[2]} e {a_calc[3]} v {a_calc[4]} w {a[5]} g\\r\\n'\n",
    "    res = Tx(-125) @ Rz(-a[0]) @ Tz(71.5) @ Ry(a[1]) @ Tz(125) @ Ry(a[2]) @ Tz(125) @ Ry(a[3]) @ Tz(60) @ Tz(132)\n",
    "\n",
    "    s.write(command.encode())\n",
    "    return res\n",
    "    \n"
   ]
  },
  {
   "cell_type": "code",
   "execution_count": 15,
   "id": "79ff225d",
   "metadata": {},
   "outputs": [],
   "source": [
    "Rz(-90)@Tz(40)\n",
    "\n",
    "#1. Rot z Base \n",
    "#2. Tz 71.5mm\n",
    "#3  Rot y Shoulder\n",
    "#4  Tz 125mm\n",
    "#5  Rot y Elbow\n",
    "#6  Tz 125mm\n",
    "#7  Rot y Wrist\n",
    "#8  Tz 60mm\n",
    "#9 (Wrist Rot)\n",
    "#10 Tz 132mm\n",
    "#11 Tx OFFSET 12.5mm for new start position\n",
    "\n",
    "#def transformation(a):\n",
    "#    return Tx(-125) @ Rz(-a[0]) @ Tz(71.5) @ Ry(a[1]) @ Tz(125) @ Ry(a[2]) @ Tz(125) @ Ry(a[3]) @ Tz(60) @ Tz(132)"
   ]
  },
  {
   "cell_type": "code",
   "execution_count": 136,
   "id": "782d4dd0-0f13-4e89-a68f-3bd51d258bf8",
   "metadata": {},
   "outputs": [],
   "source": [
    "def Move (a):\n",
    "    startpoint= np.array([[90], [90], [87], [90], [90], [65]])\n",
    "    print (a.shape)\n",
    "    a_calc = np.copy (startpoint)\n",
    "    a_calc [0:3,0:1] += a\n",
    "    print (a_calc)\n",
    "    command = f'{-a_calc[0,0]} b {a_calc[1,0]} s {a_calc[2,0]} e {a_calc[3,0]} v {a_calc[4,0]} w {a_calc[5,0]} g\\r\\n'\n",
    "    res = VK (a)\n",
    "    print (res)\n",
    "    if res[2,3] < 0:\n",
    "       raise Exception(f'Illegal z value: {res[2,3]} lower than 0')\n",
    "    else:\n",
    "        s.write(command.encode())"
   ]
  },
  {
   "cell_type": "code",
   "execution_count": 137,
   "id": "b357ba1e-8691-4a3c-a6fd-72df4923dc92",
   "metadata": {},
   "outputs": [],
   "source": [
    "def VK (a):\n",
    "    res = Tx(-125) @ Rz(-a[0,0]) @ Tz(71.5) @ Ry(a[1,0]) @ Tz(125) @ Ry(a[2,0]) @ Tz(125) @ Ry(0) @ Tz(60) @ Tz(132)\n",
    "    return res;"
   ]
  },
  {
   "cell_type": "code",
   "execution_count": 155,
   "id": "5c5b1b70-5dc0-44fa-90eb-999cebccbd60",
   "metadata": {},
   "outputs": [],
   "source": [
    "def Diff (a):\n",
    "    pos = VK (a)\n",
    "    target = np.array ([[180.0],[-50.0],[380.0]])\n",
    "    return pos[0:3,3:4] - target"
   ]
  },
  {
   "cell_type": "code",
   "execution_count": 157,
   "id": "0f0f3131",
   "metadata": {},
   "outputs": [
    {
     "name": "stdout",
     "output_type": "stream",
     "text": [
      "[[ 6.96364240e-01  1.73648178e-01  6.96364240e-01  1.82792994e+02]\n",
      " [-1.22787804e-01  9.84807753e-01 -1.22787804e-01 -5.42722094e+01]\n",
      " [-7.07106781e-01  0.00000000e+00  7.07106781e-01  3.84041197e+02]\n",
      " [ 0.00000000e+00  0.00000000e+00  0.00000000e+00  1.00000000e+00]]\n",
      "[[ 2.79299422]\n",
      " [-4.27220935]\n",
      " [ 4.04119728]]\n"
     ]
    }
   ],
   "source": [
    "B=10\n",
    "S=45\n",
    "E=0\n",
    "\n",
    "a = np.array([[B],[S],[E]])\n",
    "print (VK (a))\n",
    "print (Diff (a))\n",
    "\n",
    "# print(f(np.array([B,S,E])))\n",
    "#Move(a)\n",
    "#transformation(a)"
   ]
  },
  {
   "cell_type": "code",
   "execution_count": 192,
   "id": "3de1c6d6-1065-47da-8837-e8ca8407def2",
   "metadata": {},
   "outputs": [
    {
     "name": "stdout",
     "output_type": "stream",
     "text": [
      "bli [[-0.94723021  5.37199867  3.85276735]\n",
      " [-5.37200151 -0.94722878 -0.67934707]\n",
      " [ 0.         -5.45487637 -3.91220851]]\n",
      "n=1\n",
      "[[ 9.40279558e+00]\n",
      " [-3.07565712e+06]\n",
      " [ 4.28851858e+06]]\n",
      "\n",
      "n=2\n",
      "[[ 9.14092127e+00]\n",
      " [-3.07597347e+06]\n",
      " [ 4.28870871e+06]]\n",
      "\n",
      "n=3\n",
      "[[ 9.00942800e+00]\n",
      " [-3.07677351e+06]\n",
      " [ 4.28979109e+06]]\n",
      "\n",
      "n=4\n",
      "[[ 1.01366013e+01]\n",
      " [-3.07743930e+06]\n",
      " [ 4.29059812e+06]]\n",
      "\n",
      "n=5\n",
      "[[ 1.11467961e+01]\n",
      " [-3.07756927e+06]\n",
      " [ 4.29079375e+06]]\n",
      "\n",
      "[[ 8.92971853e-01  1.93323370e-01  4.06481666e-01  1.19623047e+02]\n",
      " [-1.75951639e-01  9.81135095e-01 -8.00933589e-02 -4.82006524e+01]\n",
      " [-4.14297346e-01  0.00000000e+00  9.10141587e-01  4.01274340e+02]\n",
      " [ 0.00000000e+00  0.00000000e+00  0.00000000e+00  1.00000000e+00]]\n"
     ]
    }
   ],
   "source": [
    "def j(f,x0):\n",
    "    h=1E-8\n",
    "    y0 = f(x0)\n",
    "    \n",
    "    col1 = np.copy(x0.astype(float))\n",
    "    col1[0,0] += h\n",
    "    col1_y = f(col1)\n",
    "    col1_df = (col1_y - y0) / h\n",
    "\n",
    "    col2 = np.copy(x0.astype(float))\n",
    "    col2[1] += h\n",
    "    col2_y = f(col2)\n",
    "    col2_df = (col2_y - y0) / h\n",
    "    \n",
    "    col3 = np.copy(x0.astype(float))\n",
    "    col3[2] += h\n",
    "    col3_y = f(col3)\n",
    "    col3_df = (col3_y - y0) / h\n",
    "    \n",
    "    return np.concatenate((col1_df,col2_df,col3_df),axis=1)\n",
    "\n",
    "#Iterative newton-raphson approximation for angle correction\n",
    "#Input: phi1,phi2,phi3 (Winkel!)\n",
    "def approximate(f,x0):\n",
    "    x = np.copy(x0.astype(float))\n",
    "    print('bli', j(f,x))\n",
    "    for i in range(5):\n",
    "        #x -= np.linalg.solve(j(x.reshape(3,)),f(x.reshape(3,)))\n",
    "        x -= np.linalg.inv(j(f,x)) @ f(x)\n",
    "        print(f'n={i+1}\\n{x}\\n')\n",
    "    return x\n",
    "        \n",
    "anew = approximate(Diff,a)\n",
    "print (VK (anew))"
   ]
  },
  {
   "cell_type": "code",
   "execution_count": 166,
   "id": "19c5a35a-df00-471e-8333-615cc21e580d",
   "metadata": {},
   "outputs": [
    {
     "data": {
      "text/plain": [
       "array([[   1. ,    0. ,    0. , -125. ],\n",
       "       [   0. ,    1. ,    0. ,    0. ],\n",
       "       [   0. ,    0. ,    1. ,  513.5],\n",
       "       [   0. ,    0. ,    0. ,    1. ]])"
      ]
     },
     "execution_count": 166,
     "metadata": {},
     "output_type": "execute_result"
    }
   ],
   "source": [
    "### Preset Demo\n",
    "\n",
    "move(np.array([0,0,0,0,0,0]))\n",
    "#move_nocheck(np.array([0,-90,-90,-30,0,0]))"
   ]
  },
  {
   "cell_type": "code",
   "execution_count": 5,
   "id": "be993c0d-37ff-4419-9f81-a4994bc859a8",
   "metadata": {},
   "outputs": [],
   "source": [
    "def rad(phi):\n",
    "    return phi * np.pi / 180\n",
    "def c(phi):\n",
    "    return np.cos(phi)\n",
    "def s(phi):\n",
    "    return np.sin(phi)\n",
    "\n",
    "def dh_calc(a,alpha,d,theta):\n",
    "    return np.array([\n",
    "        [c(theta), -s(theta), 0, a],\n",
    "        [s(theta)*c(alpha), c(theta)*c(alpha), -s(alpha), -d * s(alpha)],\n",
    "        [s(theta)*s(alpha), c(theta)*s(alpha), c(alpha), d * c(alpha)],\n",
    "        [0,0,0,1]\n",
    "    ])"
   ]
  },
  {
   "cell_type": "code",
   "execution_count": 10,
   "id": "e96c6c1e-a573-429a-af48-5332bdab4e0e",
   "metadata": {},
   "outputs": [
    {
     "data": {
      "text/plain": [
       "array([[ True,  True,  True,  True],\n",
       "       [ True,  True,  True,  True],\n",
       "       [ True,  True,  True,  True],\n",
       "       [ True,  True,  True,  True]])"
      ]
     },
     "execution_count": 10,
     "metadata": {},
     "output_type": "execute_result"
    }
   ],
   "source": [
    "b_a = rad(-90)\n",
    "r1 = np.array([\n",
    "    [c(b_a),-s(b_a),0,0],\n",
    "    [s(b_a),c(b_a),0,0],\n",
    "    [0,0,1,0],\n",
    "    [0,0,0,1]\n",
    "])\n",
    "\n",
    "t1 = np.array([\n",
    "    [1,0,0,0],\n",
    "    [0,1,0,0],\n",
    "    [0,0,1,40],\n",
    "    [0,0,0,1]\n",
    "])\n",
    "\n"
   ]
  },
  {
   "cell_type": "markdown",
   "id": "fef9fae8-1233-4309-98c1-0299fbe21f51",
   "metadata": {},
   "source": [
    "### Warning: Experimental Code for DH\n",
    "Never tested and probably not working"
   ]
  },
  {
   "cell_type": "code",
   "execution_count": 15,
   "id": "4d6e814a",
   "metadata": {},
   "outputs": [
    {
     "data": {
      "text/plain": [
       "array([[ 3.06161700e-16, -6.12323400e-17,  1.00000000e+00,\n",
       "         1.92000000e+02],\n",
       "       [ 6.12323400e-17, -1.00000000e+00, -6.12323400e-17,\n",
       "        -7.15000000e+01],\n",
       "       [ 1.00000000e+00,  6.12323400e-17, -3.06161700e-16,\n",
       "        -5.87830464e-14],\n",
       "       [ 0.00000000e+00,  0.00000000e+00,  0.00000000e+00,\n",
       "         1.00000000e+00]])"
      ]
     },
     "execution_count": 15,
     "metadata": {},
     "output_type": "execute_result"
    }
   ],
   "source": [
    "#warning: rad\n",
    "#Ansatz DH, nicht überprüft\n",
    "\n",
    "a1 = rad(90)\n",
    "a2 = rad(90)\n",
    "a3 = rad(180)\n",
    "a4 = rad(0)\n",
    "a5 = rad(90)\n",
    "\n",
    "\n",
    "dh_parameters = np.array ([\n",
    "    [0, rad(90), 71.5, a1],\n",
    "    [125, 0, 0, a2+rad(90)],\n",
    "    [125, 0, 0, a3],\n",
    "    [0, rad(90), 0, a4 - rad(90)],\n",
    "    [0, 0, 192, a5]\n",
    "])\n",
    "\n",
    "dh_matrices = []\n",
    "\n",
    "for row in dh_parameters:\n",
    "    dh_matrices.append(dh_calc(row[0],row[1],row[2],row[3]))\n",
    "    \n",
    "\n",
    "\n",
    "dh_matrices[0]@dh_matrices[1]@dh_matrices[2]@dh_matrices[3]@dh_matrices[4]"
   ]
  },
  {
   "cell_type": "markdown",
   "id": "e78ab7e5-3e1a-44f2-8b78-78361cad3894",
   "metadata": {},
   "source": [
    "## Reverse Kinematics"
   ]
  },
  {
   "cell_type": "code",
   "execution_count": 23,
   "id": "79046d6d-9d53-4bed-8542-a58979533220",
   "metadata": {},
   "outputs": [
    {
     "data": {
      "text/plain": [
       "array([[ 187.53171219],\n",
       "       [  81.29244736],\n",
       "       [-459.13102213]])"
      ]
     },
     "execution_count": 23,
     "metadata": {},
     "output_type": "execute_result"
    }
   ],
   "source": [
    "### target = np.array([x,y,z])\n",
    "target = np.array([240,50,10])\n",
    "#target = np.array([125,0,0])\n",
    "\n",
    "h = 1E-8\n",
    "\n",
    "def f(a):\n",
    "    \n",
    "    #Implement three axis of freedom\n",
    "    res = Tx(-125) @ Rz(-a[0]) @ Tz(71.5) @ Ry(a[1]) @ Tz(125) @ Ry(a[2]) @ Tz(125) @ Ry(0) @ Tz(60) @ Tz(132)\n",
    "    \n",
    "    #res = Tx(-125) @ Rz(-a[0]) @ Tz(71.5) @ Ry(a[1]) @ Tz(125) @ Ry(a[2]) @ Tz(125) @ Ry(a[3]) @ Tz(60) @ Tz(132)\n",
    "    \n",
    "    delta = target.reshape(3,1) - res[0:3,3:4]\n",
    "    #print(f'i calc {delta} = {target.reshape(3,1)} - {res[0:3,3:4]}')\n",
    "    return delta\n",
    "\n",
    "def f_d(x0):\n",
    "    y0 = f (x0)\n",
    "    #print (y0)\n",
    "    x1 = np.copy (x0); x1 [0] += h; y1 = f (x1); df1 = (y1 - y0) / h;\n",
    "    x2 = np.copy (x0); x2 [1] += h; y2 = f (x2); df2 = (y2 - y0) / h;\n",
    "    x3 = np.copy (x0); x3 [2] += h; y3 = f (x3); df3 = (y3 - y0) / h;\n",
    "    J = np.concatenate ((df1, df2, df3), axis = 1)\n",
    "    dx = np.linalg.solve (J, y0)\n",
    "    print (dx)\n",
    "\n",
    "def rev_k(x0):\n",
    "    y0 = f(x0)\n",
    "    \n",
    "    col1 = np.copy(x0)\n",
    "    col1[0] += h\n",
    "    col1_y = f(col1)\n",
    "    col1_df = (col1_y - y0) / h\n",
    "\n",
    "    col2 = np.copy(x0)\n",
    "    col2[1] += h\n",
    "    col2_y = f(col2)\n",
    "    col2_df = (col2_y - y0) / h\n",
    "    \n",
    "    col3 = np.copy(x0)\n",
    "    col3[2] += h\n",
    "    col3_y = f(col3)\n",
    "    col3_df = (col3_y - y0) / h\n",
    "    \n",
    "    J = np.concatenate((col1_df,col2_df,col3_df),axis=1)\n",
    "    \n",
    "    dx = np.linalg.solve (J,y0)\n",
    "    print(dx)\n",
    "    print(x0)\n",
    "\n",
    "\n",
    "#Jacobimatrix\n",
    "def j(x0):\n",
    "    y0 = f(x0)\n",
    "    \n",
    "    col1 = np.copy(x0)\n",
    "    col1[0] += h\n",
    "    col1_y = f(col1)\n",
    "    col1_df = (col1_y - y0) / h\n",
    "\n",
    "    col2 = np.copy(x0)\n",
    "    col2[1] += h\n",
    "    col2_y = f(col2)\n",
    "    col2_df = (col2_y - y0) / h\n",
    "    \n",
    "    col3 = np.copy(x0)\n",
    "    col3[2] += h\n",
    "    col3_y = f(col3)\n",
    "    col3_df = (col3_y - y0) / h\n",
    "    \n",
    "    return np.concatenate((col1_df,col2_df,col3_df),axis=1)\n",
    "\n",
    "#Iterative newton-raphson approximation for angle correction\n",
    "#Input: phi1,phi2,phi3 (Winkel!)\n",
    "def approximate(x0):\n",
    "    x = np.copy(x0).reshape(3,1)\n",
    "    for i in range(15):\n",
    "        #x -= np.linalg.solve(j(x.reshape(3,)),f(x.reshape(3,)))\n",
    "        x -= np.linalg.inv(j(x.reshape(3,))) @ f(x.reshape(3,))\n",
    "        print(f'n={i+1}\\n{x}\\n')\n",
    "\n",
    "#approximate(np.array([10,10,20]).astype(float))\n",
    "f(np.array([10,10,20]).astype(float))\n",
    "#rev_k(np.array([20,10,20]).astype(float))"
   ]
  },
  {
   "cell_type": "code",
   "execution_count": 193,
   "id": "99a005d3-f444-47a1-ae10-f4f68e9a089f",
   "metadata": {},
   "outputs": [],
   "source": [
    "s.close()"
   ]
  },
  {
   "cell_type": "code",
   "execution_count": null,
   "id": "82cd0037-cca4-4791-9d68-f1a88f8fd98e",
   "metadata": {},
   "outputs": [],
   "source": []
  }
 ],
 "metadata": {
  "kernelspec": {
   "display_name": "Python 3 (ipykernel)",
   "language": "python",
   "name": "python3"
  },
  "language_info": {
   "codemirror_mode": {
    "name": "ipython",
    "version": 3
   },
   "file_extension": ".py",
   "mimetype": "text/x-python",
   "name": "python",
   "nbconvert_exporter": "python",
   "pygments_lexer": "ipython3",
   "version": "3.8.13"
  }
 },
 "nbformat": 4,
 "nbformat_minor": 5
}
