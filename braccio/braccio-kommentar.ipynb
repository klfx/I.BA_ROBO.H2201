{
 "cells": [
  {
   "cell_type": "markdown",
   "id": "3d5b341a",
   "metadata": {},
   "source": [
    "## Bibliothek importieren"
   ]
  },
  {
   "cell_type": "code",
   "execution_count": 1,
   "id": "4ef60db8",
   "metadata": {},
   "outputs": [],
   "source": [
    "import serial as ser"
   ]
  },
  {
   "cell_type": "markdown",
   "id": "4fe0e4c2",
   "metadata": {},
   "source": [
    "# Roboter UNBEDINGT senkrecht stellen!"
   ]
  },
  {
   "cell_type": "markdown",
   "id": "9a880f8f",
   "metadata": {},
   "source": [
    "## Seriellen Port öffnen"
   ]
  },
  {
   "cell_type": "code",
   "execution_count": 2,
   "id": "28c02099",
   "metadata": {},
   "outputs": [],
   "source": [
    "s = ser.Serial ('COM6', baudrate = 9600, parity = 'N', bytesize = 8, stopbits = 1, timeout = None)"
   ]
  },
  {
   "cell_type": "markdown",
   "id": "86fa3620",
   "metadata": {},
   "source": [
    "## Ein paar Sekunden warten"
   ]
  },
  {
   "cell_type": "markdown",
   "id": "b0923d7d",
   "metadata": {},
   "source": [
    "## ersten Befehl senden"
   ]
  },
  {
   "cell_type": "code",
   "execution_count": 3,
   "id": "bb538848",
   "metadata": {},
   "outputs": [
    {
     "data": {
      "text/plain": [
       "28"
      ]
     },
     "execution_count": 3,
     "metadata": {},
     "output_type": "execute_result"
    }
   ],
   "source": [
    "s.write (b'90 b 90 s 90 e 90 v 90 w 0 g') # senkrecht"
   ]
  },
  {
   "cell_type": "code",
   "execution_count": 4,
   "id": "e5bb47b8",
   "metadata": {},
   "outputs": [
    {
     "data": {
      "text/plain": [
       "30"
      ]
     },
     "execution_count": 4,
     "metadata": {},
     "output_type": "execute_result"
    }
   ],
   "source": [
    "s.write (b'180 b 90 s 180 e 90 v 90 w 0 g') # 180 Ellbogen gebeugt -> rechts"
   ]
  },
  {
   "cell_type": "code",
   "execution_count": 5,
   "id": "300cf556",
   "metadata": {
    "scrolled": true
   },
   "outputs": [
    {
     "data": {
      "text/plain": [
       "31"
      ]
     },
     "execution_count": 5,
     "metadata": {},
     "output_type": "execute_result"
    }
   ],
   "source": [
    "s.write (b'180 b 165 s 120 e 90 v 90 w 0 g') # schulter 165 gebeugt, 120 Ellbogen gebeugt"
   ]
  },
  {
   "cell_type": "code",
   "execution_count": 6,
   "id": "255f1b72",
   "metadata": {},
   "outputs": [
    {
     "data": {
      "text/plain": [
       "32"
      ]
     },
     "execution_count": 6,
     "metadata": {},
     "output_type": "execute_result"
    }
   ],
   "source": [
    "s.write (b'180 b 165 s 120 e 85 v 90 w 90 g') # Handgelenk 85, hand schliesst bei 90"
   ]
  },
  {
   "cell_type": "code",
   "execution_count": 7,
   "id": "eed162f4",
   "metadata": {},
   "outputs": [
    {
     "data": {
      "text/plain": [
       "30"
      ]
     },
     "execution_count": 7,
     "metadata": {},
     "output_type": "execute_result"
    }
   ],
   "source": [
    "s.write (b'180 b 90 s 90 e 90 v 90 w 90 g') # senkrecht mit Radiergummi in der Hand"
   ]
  },
  {
   "cell_type": "code",
   "execution_count": 8,
   "id": "ae1085eb",
   "metadata": {},
   "outputs": [
    {
     "data": {
      "text/plain": [
       "28"
      ]
     },
     "execution_count": 8,
     "metadata": {},
     "output_type": "execute_result"
    }
   ],
   "source": [
    "s.write (b'0 b 90 s 90 e 90 v 90 w 90 g') # base dreht nach 180"
   ]
  },
  {
   "cell_type": "code",
   "execution_count": 9,
   "id": "4af3ebd2",
   "metadata": {},
   "outputs": [
    {
     "data": {
      "text/plain": [
       "29"
      ]
     },
     "execution_count": 9,
     "metadata": {},
     "output_type": "execute_result"
    }
   ],
   "source": [
    "s.write (b'0 b 90 s 180 e 90 v 90 w 90 g') #  Ellbogen 180 gebeugt"
   ]
  },
  {
   "cell_type": "code",
   "execution_count": 10,
   "id": "ce63aca3",
   "metadata": {},
   "outputs": [
    {
     "data": {
      "text/plain": [
       "30"
      ]
     },
     "execution_count": 10,
     "metadata": {},
     "output_type": "execute_result"
    }
   ],
   "source": [
    "s.write (b'0 b 90 s 180 e 153 v 90 w 90 g') # Handgelenk dreht sich 153"
   ]
  },
  {
   "cell_type": "code",
   "execution_count": 11,
   "id": "5a37e4d7",
   "metadata": {},
   "outputs": [
    {
     "data": {
      "text/plain": [
       "29"
      ]
     },
     "execution_count": 11,
     "metadata": {},
     "output_type": "execute_result"
    }
   ],
   "source": [
    "s.write (b'0 b 90 s 180 e 153 v 90 w 0 g') # Radiergummi wird fallen gelassen"
   ]
  },
  {
   "cell_type": "markdown",
   "id": "f78c296e",
   "metadata": {},
   "source": [
    "## zweiten Befehl senden"
   ]
  },
  {
   "cell_type": "code",
   "execution_count": 12,
   "id": "e38ed0f1",
   "metadata": {},
   "outputs": [
    {
     "data": {
      "text/plain": [
       "31"
      ]
     },
     "execution_count": 12,
     "metadata": {},
     "output_type": "execute_result"
    }
   ],
   "source": [
    "s.write (b'90 b 90 s 90 e 90 v 90 w 90 g\\r\\n')"
   ]
  },
  {
   "cell_type": "markdown",
   "id": "9ff8a804",
   "metadata": {},
   "source": [
    "## Port schliessen"
   ]
  },
  {
   "cell_type": "code",
   "execution_count": 13,
   "id": "2a79fc99",
   "metadata": {},
   "outputs": [],
   "source": [
    "s.close()"
   ]
  }
 ],
 "metadata": {
  "kernelspec": {
   "display_name": "Python 3 (ipykernel)",
   "language": "python",
   "name": "python3"
  },
  "language_info": {
   "codemirror_mode": {
    "name": "ipython",
    "version": 3
   },
   "file_extension": ".py",
   "mimetype": "text/x-python",
   "name": "python",
   "nbconvert_exporter": "python",
   "pygments_lexer": "ipython3",
   "version": "3.8.13"
  }
 },
 "nbformat": 4,
 "nbformat_minor": 5
}
