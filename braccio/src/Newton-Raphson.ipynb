{
 "cells": [
  {
   "cell_type": "code",
   "execution_count": 1,
   "id": "fc966a1f-5398-46c7-89a8-266af6118382",
   "metadata": {},
   "outputs": [],
   "source": [
    "import numpy as np"
   ]
  },
  {
   "cell_type": "markdown",
   "id": "31782475-04aa-4b4e-b08e-032b05dcca59",
   "metadata": {},
   "source": [
    "# 1 Newton-Raphson Einfach (eine Variable)"
   ]
  },
  {
   "cell_type": "code",
   "execution_count": 20,
   "id": "adb7d0c6-7225-4454-99b9-c570cad5d4d6",
   "metadata": {},
   "outputs": [
    {
     "name": "stdout",
     "output_type": "stream",
     "text": [
      "n=1         6.7\n",
      "n=2         4.540922254399644\n",
      "n=3         3.188937050342083\n",
      "n=4         2.453741355711228\n",
      "n=5         2.189459564816151\n",
      "n=6         2.154991996711556\n",
      "n=7         2.154434834145626\n",
      "n=8         2.154434690031893\n",
      "n=9         2.154434690031884\n",
      "n=10        2.154434690031884\n"
     ]
    }
   ],
   "source": [
    "def f(x):\n",
    "    return x**3-10\n",
    "def df(x):\n",
    "    return 3*x**2\n",
    "\n",
    "#Startwert\n",
    "x=10\n",
    "#Iterationen\n",
    "n=10\n",
    "\n",
    "for i in range(n):\n",
    "    x=x-(f(x)/df(x))\n",
    "    print(f'n={i+1:<10}{x}')"
   ]
  },
  {
   "cell_type": "markdown",
   "id": "ec66a177-a380-4748-9f6c-c6f1752461fd",
   "metadata": {},
   "source": [
    "# 2 Newton-Raphson Multivariable "
   ]
  },
  {
   "cell_type": "markdown",
   "id": "72e4cc4a-45c7-41fa-ae3e-65f0a4d205fd",
   "metadata": {},
   "source": [
    "## 2.1 Vollständig"
   ]
  },
  {
   "cell_type": "code",
   "execution_count": 37,
   "id": "46e25b89-fd52-4cbb-89c6-45babc686f17",
   "metadata": {},
   "outputs": [
    {
     "name": "stdout",
     "output_type": "stream",
     "text": [
      "n=1\n",
      "[[0.7   ]\n",
      " [1.1125]]\n",
      "\n",
      "n=2\n",
      "[[0.59051603]\n",
      " [0.75029614]]\n",
      "\n",
      "n=3\n",
      "[[0.5677856 ]\n",
      " [0.66034497]]\n",
      "\n",
      "n=4\n",
      "[[0.56647262]\n",
      " [0.65405277]]\n",
      "\n",
      "n=5\n",
      "[[0.56646711]\n",
      " [0.6540218 ]]\n",
      "\n",
      "n=6\n",
      "[[0.56646711]\n",
      " [0.6540218 ]]\n",
      "\n",
      "n=7\n",
      "[[0.56646711]\n",
      " [0.6540218 ]]\n",
      "\n",
      "n=8\n",
      "[[0.56646711]\n",
      " [0.6540218 ]]\n",
      "\n",
      "n=9\n",
      "[[0.56646711]\n",
      " [0.6540218 ]]\n",
      "\n",
      "n=10\n",
      "[[0.56646711]\n",
      " [0.6540218 ]]\n",
      "\n"
     ]
    }
   ],
   "source": [
    "#6 Newton-Raphson Method - multivariable application\n",
    "\n",
    "#x1 und x2 sind die Variabeln x und y\n",
    "#Nimmt Spaltenvektor mit Shape(2,1) an und gibt auch einen zurück\n",
    "def f(x):\n",
    "    x1 = x[0,0]\n",
    "    x2 = x[1,0]\n",
    "    f1 = 4*x1**2 + x1*x2 - x2 -1\n",
    "    f2 = 6*x2**2 - x1 - 2\n",
    "    return np.array([[f1],[f2]])\n",
    "\n",
    "#Jordanmatrix mit bereits vorbereiteten Derivatives\n",
    "def j(x):\n",
    "    x1 = x[0,0]\n",
    "    x2 = x[1,0]\n",
    "    xx11 = 8*x1+x2\n",
    "    xx12 = x1-1\n",
    "    xx21 = -1\n",
    "    xx22 = 12*x2\n",
    "    return np.array([[xx11,xx12],[xx21,xx22]])\n",
    "\n",
    "#Anzahl Iterations n und Startwert x\n",
    "n = 10\n",
    "x = np.array([[1.0],[2.0]])\n",
    "\n",
    "for i in range(n):\n",
    "    #x = x - Jacobimatrix.inv @ f(x)\n",
    "    #x ist Anfangs Startpunkt und nähert sich mit jeder Iteration dem Nullpunkt\n",
    "    x -= np.linalg.inv(j(x)) @ f(x)\n",
    "    print(f'n={i+1}\\n{x}\\n')\n",
    "\n",
    "#Wichtig: Es gibt mehrere Resultate - NR findet jenes, das näher am Startwert liegt"
   ]
  },
  {
   "cell_type": "markdown",
   "id": "73661f9f-d1c9-45ec-b15b-be8c60c82b02",
   "metadata": {},
   "source": [
    "## 2.2 Vereinfacht (n=1 mit vorgerechneten Werten)"
   ]
  },
  {
   "cell_type": "code",
   "execution_count": 47,
   "id": "5577a963-7f3d-416f-b42c-fb9b9636d5c5",
   "metadata": {},
   "outputs": [
    {
     "name": "stdout",
     "output_type": "stream",
     "text": [
      "[[0.7   ]\n",
      " [1.1125]]\n",
      "[[1.]\n",
      " [2.]]\n"
     ]
    }
   ],
   "source": [
    "j1 = np.array([[10,0],\n",
    "               [-1.0,24.0]])\n",
    "f1 = np.array([[3.0],\n",
    "               [21.0]])\n",
    "\n",
    "#Startwerte\n",
    "x = np.array([[1.0],\n",
    "              [2.0]])\n",
    "\n",
    "#x = x - inv(j1) @ f1\n",
    "x -= np.linalg.inv(j1)@f1\n",
    "\n",
    "print(x)\n",
    "print(np.array([[1.0,2.0]]).T)"
   ]
  }
 ],
 "metadata": {
  "kernelspec": {
   "display_name": "Python 3 (ipykernel)",
   "language": "python",
   "name": "python3"
  },
  "language_info": {
   "codemirror_mode": {
    "name": "ipython",
    "version": 3
   },
   "file_extension": ".py",
   "mimetype": "text/x-python",
   "name": "python",
   "nbconvert_exporter": "python",
   "pygments_lexer": "ipython3",
   "version": "3.8.13"
  }
 },
 "nbformat": 4,
 "nbformat_minor": 5
}
